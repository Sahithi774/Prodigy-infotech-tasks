{
  "cells": [
    {
      "cell_type": "markdown",
      "metadata": {
        "id": "view-in-github",
        "colab_type": "text"
      },
      "source": [
        "<a href=\"https://colab.research.google.com/github/Sahithi774/Prodigy-infotech-tasks/blob/main/Task_2.ipynb\" target=\"_parent\"><img src=\"https://colab.research.google.com/assets/colab-badge.svg\" alt=\"Open In Colab\"/></a>"
      ]
    },
    {
      "cell_type": "code",
      "source": [
        "import pandas as pd\n",
        "import numpy as np\n",
        "import matplotlib.pyplot as plt\n",
        "import seaborn as sns\n",
        "\n",
        "# Load the Titanic dataset\n",
        "url = \"/content/gender_submission.csv\"\n",
        "df = pd.read_csv(url)\n",
        "\n",
        "# Data Cleaning\n",
        "# In this simplified example, we'll drop missing values.\n",
        "\n",
        "# Drop rows with missing values\n",
        "df.dropna(subset=[\"Survived\"], inplace=True)\n",
        "\n",
        "# Exploratory Data Analysis (EDA)\n",
        "# Display the first few rows of the dataset\n",
        "print(df.head())\n",
        "\n",
        "# Get summary statistics\n",
        "print(df.describe())\n",
        "\n",
        "# Check for missing values\n",
        "print(df.isnull().sum())\n",
        "\n",
        "# Create histograms for the \"Survived\" variable\n",
        "sns.histplot(df['Survived'], bins=2, kde=False)\n",
        "plt.xlabel(\"Survived\")\n",
        "plt.ylabel(\"Count\")\n",
        "plt.title(\"Distribution of Survival\")\n",
        "\n",
        "# Create a bar plot for \"Survived\" variable\n",
        "sns.countplot(x='Survived', data=df)\n",
        "plt.xlabel(\"Survived\")\n",
        "plt.ylabel(\"Count\")\n",
        "plt.title(\"Survival Count\")\n",
        "\n",
        "# Calculate the survival rate\n",
        "survival_rate = df['Survived'].mean()\n",
        "print(\"Survival Rate:\", survival_rate)\n",
        "\n",
        "# Save the cleaned data (if applicable)\n",
        "# df.to_csv('cleaned_titanic.csv', index=False)\n",
        "\n",
        "# Show the plots\n",
        "plt.show()\n"
      ],
      "metadata": {
        "id": "op7wddC3C_8G",
        "outputId": "bbde720c-7fa3-49ab-eb42-d68e59d2e21f",
        "colab": {
          "base_uri": "https://localhost:8080/",
          "height": 807
        }
      },
      "execution_count": null,
      "outputs": [
        {
          "output_type": "stream",
          "name": "stdout",
          "text": [
            "   PassengerId  Survived\n",
            "0          892         0\n",
            "1          893         1\n",
            "2          894         0\n",
            "3          895         0\n",
            "4          896         1\n",
            "       PassengerId    Survived\n",
            "count   418.000000  418.000000\n",
            "mean   1100.500000    0.363636\n",
            "std     120.810458    0.481622\n",
            "min     892.000000    0.000000\n",
            "25%     996.250000    0.000000\n",
            "50%    1100.500000    0.000000\n",
            "75%    1204.750000    1.000000\n",
            "max    1309.000000    1.000000\n",
            "PassengerId    0\n",
            "Survived       0\n",
            "dtype: int64\n",
            "Survival Rate: 0.36363636363636365\n"
          ]
        },
        {
          "output_type": "display_data",
          "data": {
            "text/plain": [
              "<Figure size 640x480 with 1 Axes>"
            ],
            "image/png": "[encoded data removed]"
          },
          "metadata": {}
        }
      ]
    }
  ],
  "metadata": {
    "colab": {
      "provenance": [],
      "include_colab_link": true
    },
    "kernelspec": {
      "display_name": "Python 3",
      "name": "python3"
    }
  },
  "nbformat": 4,
  "nbformat_minor": 0
}